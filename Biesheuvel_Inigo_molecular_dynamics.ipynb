{
 "cells": [
  {
   "cell_type": "markdown",
   "metadata": {},
   "source": [
    "# Final notebook?"
   ]
  },
  {
   "cell_type": "code",
   "execution_count": null,
   "metadata": {
    "collapsed": false
   },
   "outputs": [],
   "source": [
    "import numpy as np\n",
    "import math as math\n",
    "import matplotlib.pyplot as plt\n",
    "import statistics as stats\n",
    "from mpl_toolkits.mplot3d import Axes3D\n",
    "from itertools import product\n",
    "from numba import jit\n",
    "from matplotlib import rc\n",
    "\n",
    "\n",
    "# Define font for figures\n",
    "rc('font', **{'family': 'serif', 'serif': ['Computer Modern']})\n",
    "rc('text', usetex=True)\n",
    "\n",
    "import time\n",
    "%matplotlib inline"
   ]
  },
  {
   "cell_type": "markdown",
   "metadata": {},
   "source": [
    "## Initalizing algorithm "
   ]
  },
  {
   "cell_type": "code",
   "execution_count": null,
   "metadata": {
    "collapsed": true
   },
   "outputs": [],
   "source": [
    "def position(l,N,L):\n",
    "    \"\"\"\n",
    "    Initializes position based on density. Returns r (N x 3) matrix with x-y-z position of particles\n",
    "    l is unit cell length \n",
    "    N is amount of particles\n",
    "    L is number of unit cells in each direction\n",
    "    \"\"\"\n",
    "    # particles in unit cell\n",
    "    r = np.zeros(shape=(N, 3), dtype=\"float64\")\n",
    "    #coordinates of 4 particles in the unit cell\n",
    "    p1 = l * np.array([0.25, 0.25, 0.25])\n",
    "    p2 = l*np.array([0.75, 0.75, 0.25])\n",
    "    p3 = l*np.array([0.75, 0.25, 0.75])\n",
    "    p4 = l*np.array([0.25, 0.75, 0.75])\n",
    "\n",
    "    # distribute all the particles by using the unit cell and displacing it in x y and z with length l\n",
    "    n=0\n",
    "    for x, y, z in product(range(L), range(L), range(L)):\n",
    "        disp = np.multiply(l, np.array([x, y, z])) #displacement array\n",
    "        r[n] = p1 + disp\n",
    "        r[n + 1] = p2 + disp\n",
    "        r[n + 2] = p3 + disp\n",
    "        r[n + 3] = p4 + disp\n",
    "        n += 4\n",
    "        \n",
    "    return r\n",
    "\n",
    "def velocity(T,N):\n",
    "    \"\"\"\n",
    "    Initializes velocity based on Maxwell distribution of speed and makes sure avg momentum is 0\n",
    "    T is temperature\n",
    "    N is amount of particles\n",
    "    Returns v (N x 3) with vx-vy-vz\n",
    "    \"\"\"\n",
    "    v = np.zeros(shape=(N, 3), dtype=\"float64\")\n",
    "    sigma = math.sqrt(T) #variance of the system\n",
    "    mu = 0 #mean speed\n",
    "    v = np.random.normal(mu, sigma, 3*N).reshape(-1, 3)\n",
    "    v -= v.sum(axis=0) / N\n",
    "    return v"
   ]
  },
  {
   "cell_type": "markdown",
   "metadata": {},
   "source": [
    "## Force algorithm"
   ]
  },
  {
   "cell_type": "code",
   "execution_count": null,
   "metadata": {
    "collapsed": true
   },
   "outputs": [],
   "source": [
    "@jit\n",
    "def Forces(r, ld, N, bins, binlen):\n",
    "    \n",
    "    \"\"\"\n",
    "    compute forces on all particles.\n",
    "    r - Nx3 matrix containing x y z positions of all particles\n",
    "    ld - length of the computional domain (for a box of Volume = ld**3)\n",
    "    N - amount of particles\n",
    "    bins - amount of bins for the correlation function\n",
    "    binlen-length of the bin:ld/bins\n",
    "    Returns force on particles (acc), amount of particles in shell (n), virial component (pressure), and Potential (V)\n",
    "    \"\"\"\n",
    "    #initiate vectors and \n",
    "    n=np.zeros(shape=(bins,))\n",
    "    acc=np.zeros(shape=(N,3))\n",
    "    pressure=0\n",
    "    V = 0\n",
    "    \n",
    "    for i in range(N):\n",
    "        for j in range(i):\n",
    "            dx=r[i,0]-r[j,0]\n",
    "            dy=r[i,1]-r[j,1]\n",
    "            dz=r[i,2]-r[j,2]\n",
    "            dx -= np.rint(dx / ld) * ld\n",
    "            dy -= np.rint(dy / ld) * ld\n",
    "            dz -= np.rint(dz / ld) * ld\n",
    "            dr2= dx * dx + dy * dy + dz * dz\n",
    "            drreturn = dr2 #remember dr2 to use for pressure and n\n",
    "            force=0\n",
    "             \n",
    "            if dr2 < rcutoff:\n",
    "                dr2 = 1 / dr2\n",
    "                dr6 = dr2 * dr2 * dr2\n",
    "                dr12 = dr6 * dr6\n",
    "                dr14 = dr12 * dr2\n",
    "                dr8 = dr6 * dr2\n",
    "                V += 4 * (dr12 - dr6)\n",
    "                force = 24 * (2 * dr14 - dr8)\n",
    "                acc[i,0] += force * dx\n",
    "                acc[i,1] += force * dy\n",
    "                acc[i,2] += force * dz\n",
    "                acc[j,0] -= force * dx\n",
    "                acc[j,1] -= force * dy\n",
    "                acc[j,2] -= force * dz\n",
    "            distances=np.sqrt(drreturn)\n",
    "            n[int(distances/binlen)] +=1 #distribution for correlation function\n",
    "            pressure += drreturn * (-1 * force) #virial component to calculate pressure\n",
    "            \n",
    "            \n",
    "    return acc,n,pressure,V"
   ]
  },
  {
   "cell_type": "markdown",
   "metadata": {},
   "source": [
    "## THE Algorithm"
   ]
  },
  {
   "cell_type": "code",
   "execution_count": null,
   "metadata": {
    "collapsed": false
   },
   "outputs": [],
   "source": [
    "def Mainalgorithm(l,N,L,T,ld,bins,binlen,Time,lt):\n",
    "    #initiate n matrix\n",
    "    n = np.zeros(shape=(bins,Time-lt))\n",
    "    V = np.zeros(shape=(Time,))\n",
    "\n",
    "    #initiate atoms\n",
    "    r = position(l,N,L)\n",
    "    v = velocity(T,N)\n",
    "    F, n[:,0], pressure, Vn = Forces(r, ld, N,bins,binlen)\n",
    "\n",
    "    #initiate vectors \n",
    "    pressure = 0\n",
    "    K = np.zeros(shape=(Time,))\n",
    "    E = np.zeros(shape=(Time,))\n",
    "    Pi = np.zeros(shape=(Time-lt,))\n",
    "    Tr = np.zeros(shape=(Time-lt,))\n",
    "\n",
    "\n",
    "    for i in range(Time):\n",
    "        ## Verlet Algorithm\n",
    "        v += 0.5* F * dt #halfway step for velocity (verlet)\n",
    "        r += v * dt #update position\n",
    "        r = np.mod(r , (ld)) #periodic boundary\n",
    "        F,nt,pressuret,Vt = Forces(r,ld,N,bins,binlen) #forces due to new position\n",
    "        v += 0.5 * F * dt #complete velocity step\n",
    "        K[i] = 0.5*np.sum( v * v)\n",
    "        V[i] = Vt\n",
    "        E[i] = K[i] + V[i]\n",
    "    \n",
    "        #Thermostat\n",
    "        if i<lt and (np.mod(i,10)==0): #mod for calling thermostat 10 times in time lt\n",
    "            Ktherm = 0.5*np.sum( v * v)\n",
    "            scale=np.sqrt(1.5*(N-1)*T/Ktherm)\n",
    "            v=scale*v\n",
    "            K[i] = 0.5*np.sum(v*v)\n",
    "            E[i] = K[i] + V[i]\n",
    "        \n",
    "        if i>lt: \n",
    "            #Only do pressure when not using thermostat\n",
    "            Pi[i-lt] = pressuret\n",
    "            n[:,i-lt] = nt\n",
    "            Tr[i-lt] = 2*K[i]/(3*(N-3))\n",
    "    \n",
    "    return K, E, Pi, n, Tr, V"
   ]
  },
  {
   "cell_type": "markdown",
   "metadata": {},
   "source": [
    "## Choose constants and initial conditions"
   ]
  },
  {
   "cell_type": "code",
   "execution_count": null,
   "metadata": {
    "collapsed": false
   },
   "outputs": [],
   "source": [
    "## get main algorithm results\n",
    "\n",
    "## preferrably unvariable\n",
    "L = 6 #number of unit cells in 3 directions\n",
    "Z = 4 #number of atoms per unit cell\n",
    "N = Z*L**3 #number of atoms in total space\n",
    "rcutoff = 9 #sigma ^2 cut off range\n",
    "\n",
    "## input parameters , for controlling the phase \n",
    "\n",
    "## Uncomment for useful points in pressure\n",
    "#rho = [0.1,0.2,0.3,0.4,0.5,0.6,0.65,0.7,0.1,0.15,0.2,0.3,0.4,0.5,0.6,0.65,0.68,0.72,0.1,0.15,0.2,0.3,0.4,0.5,0.6,0.65]#density of particles\n",
    "#T = [1.25,1.25,1.25,1.25,1.25,1.25,1.25,1.25,1.35,1.35,1.35,1.35,1.35,1.35,1.35,1.35,1.35,1.35,2.74,2.74,2.74,2.74,2.74,2.74,2.74,2.74] #Temperature in reduced units\n",
    "\n",
    "## Uncomment for gas and liquid\n",
    "#rho = [0.01,0.6775]\n",
    "#T = [5,0.7833]\n",
    "\n",
    "## Uncomment for a solid (many more timesteps have to be taken to get reliable results for Cv!)\n",
    "#rho = [0.88,0.88]\n",
    "#T = [0.01,0.01]\n",
    "\n",
    "\n",
    "## Timestep algorithm constants\n",
    "Time = 15000 #amount of timesteps \n",
    "lt = 2500 #amount of timesteps to thermostate\n",
    "dt = 0.004 #length of timestep\n",
    "\n",
    "# ## correlation function variables\n",
    "bins = 500\n",
    "\n",
    "\n",
    "## Global matrices\n",
    "Kf = np.zeros(shape=(Time,len(rho)))\n",
    "Ef  = np.zeros(shape=(Time,len(rho)))\n",
    "Pif = np.zeros(shape=(Time-lt,len(rho)))\n",
    "nf = np.zeros(shape=(bins,Time-lt,len(rho)))\n",
    "pressure = np.zeros(shape = (len(rho),))\n",
    "Tr = np.zeros(shape=(Time-lt,len(rho)))\n",
    "Vf = np.zeros(shape=(Time,len(rho)))\n"
   ]
  },
  {
   "cell_type": "markdown",
   "metadata": {},
   "source": [
    "## Run algorithm"
   ]
  },
  {
   "cell_type": "code",
   "execution_count": null,
   "metadata": {
    "collapsed": false
   },
   "outputs": [],
   "source": [
    "#This algorithm runs the simulation and saves the main properties from the simulation. \n",
    "\"\"\"\n",
    "The main properties saved for each timestep and are: Kinetic energy, Total eenrgy, Virial term, distribution n (in bins)\n",
    "Temperature and potential energy.\n",
    "\"\"\"\n",
    "\n",
    "\n",
    "for i in range(len(rho)):\n",
    "    ## input parameters , for controlling the phase \n",
    "    rhoi = rho[i]\n",
    "\n",
    "    ## parameters that are influenced by input parameters\n",
    "    l = (Z/rhoi)**(1/3) #unit cell length in sigma\n",
    "    ld = L*l #computational domain length\n",
    "    \n",
    "    ## correlation function variables\n",
    "    binlen = ld/bins \n",
    "    \n",
    "    \n",
    "    Kf[:,i], Ef[:,i], Pif[:,i], nf[:,:,i], Tr[:,i], Vf[:,i] = Mainalgorithm(l,N,L,T[i],ld,bins,binlen,Time,lt)\n",
    "\n",
    "np.save('Kinetic_1', Kf)\n",
    "np.save('Total_1',Ef)\n",
    "np.save('Pressure_1',Pif)\n",
    "np.save('histbins_1',nf)\n",
    "np.save('Temperature_1',Tr)   \n",
    "\n",
    "#It is recommended to keep an extra file with information on the data in this string\n",
    "    "
   ]
  },
  {
   "cell_type": "code",
   "execution_count": null,
   "metadata": {
    "collapsed": false
   },
   "outputs": [],
   "source": [
    "## Create a figure to show constant energy. len(rho) has to be 1 for this one!\n",
    "\n",
    "fig = plt.figure(figsize=(2.5,2.5))\n",
    "ax = fig.add_subplot(111)\n",
    "ax.plot(Kf, 'k--',label = 'Kinetic')\n",
    "ax.plot(Ef,'k-',label = 'Total')\n",
    "ax.plot(Vf,'k-.',label= 'Potential')\n",
    "plt.xlabel(r'timestep',fontsize = 9)\n",
    "plt.ylabel(r'Energy ($\\epsilon$)')\n",
    "lgd = ax.legend(loc=9, bbox_to_anchor=(0.5, -0.11), ncol=3, fontsize = 10)\n",
    "art = []\n",
    "art.append(lgd)\n"
   ]
  },
  {
   "cell_type": "code",
   "execution_count": null,
   "metadata": {
    "collapsed": true
   },
   "outputs": [],
   "source": [
    "# To save the figure\n",
    "\n",
    "fig.savefig(\"energy_const.pdf\", additional_artists=art,bbox_inches=\"tight\")\n"
   ]
  },
  {
   "cell_type": "markdown",
   "metadata": {},
   "source": [
    "## Cv"
   ]
  },
  {
   "cell_type": "code",
   "execution_count": null,
   "metadata": {
    "collapsed": false
   },
   "outputs": [],
   "source": [
    "# Computation of Cv and the error\n",
    "\n",
    "Cv = np.zeros(shape=(len(rho),))\n",
    "Cverr = np.zeros(shape=(len(rho),))\n",
    "\n",
    "intervals = 51\n",
    "\n",
    "for j in range(len(rho)):\n",
    "    Knew = Kf[lt:,j] #Take data from after the thermostat is done\n",
    "    blocks=np.linspace(0,len(Knew),intervals) #Dividing the Energy in equal intervals\n",
    "    dblocks=np.diff(blocks)# Length of the interval\n",
    "    dbl = int(dblocks[1]) #length of each interval\n",
    "\n",
    "    Cvblock=np.zeros(shape=(len(blocks),)) # Initialization of the heat capacity vector\n",
    "\n",
    "    # Computation of the errors by computing Cv in each interval and taking the error of these computations\n",
    "    for i in range(len(blocks)-1):\n",
    "        Kerr=Knew[i*dbl:dbl+i*dbl] # Taking just the elements of each interval\n",
    "        #Cv for each block\n",
    "        Kmean = np.mean(Kerr)\n",
    "        Kmean2 = Kmean*Kmean \n",
    "        Kvar = np.var(Kerr)\n",
    "        Cvblock[i] = (3*Kmean2)/(2*Kmean2 - 3*N*Kvar)\n",
    "\n",
    "    Cverr[j]= np.std(Cvblock)/np.sqrt(len(dblocks))#Cvstd/(len(blocks)*math.sqrt(len(blocks)))\n",
    "    \n",
    "    #Calculate Cv from the whole ensemble\n",
    "    Kmean = np.mean(Knew)\n",
    "    Kmean2 = Kmean*Kmean \n",
    "    Kvar = np.var(Knew)\n",
    "    Cv[j] = (3*Kmean2)/(2*Kmean2 - 3*N*Kvar) # Cv /N (to check Cv/N = 1.5 kb for hot gas and Cv/N = 3 for solid)\n",
    "    print(\"Cv is\", Cv[j], \"+-\", Cverr[j])"
   ]
  },
  {
   "cell_type": "markdown",
   "metadata": {},
   "source": [
    "## Correlation fuction"
   ]
  },
  {
   "cell_type": "code",
   "execution_count": null,
   "metadata": {
    "collapsed": false
   },
   "outputs": [],
   "source": [
    "# #Uncomment for solid\n",
    "# # nf = np.load('histbins_L6_T100000_solid.npy')\n",
    "# # #Calculate Correlation function\n",
    "# # Time = 200000 #amount of timesteps \n",
    "# # lt = 50000 #amount of timesteps to thermostate\n",
    "# # T = [0.01]\n",
    "# # rho = [0.88]\n",
    "\n",
    "# #Uncomment for liquid\n",
    "# nf = np.load('histbins_L6_T12500_liquid.npy')\n",
    "# #Calculate Correlation function\n",
    "# #Time = 200000 #amount of timesteps \n",
    "# #lt = 50000 #amount of timesteps to thermostate\n",
    "# T = [0.7833]\n",
    "# rho = [0.6775]\n",
    "\n",
    "\n",
    "intervals = 21\n",
    "\n",
    "blocks = np.linspace(0,len(nf[1,:,0]),intervals)\n",
    "dblocks = np.diff(blocks)\n",
    "dbl = int(dblocks[1])\n",
    "\n",
    "nerrblock = np.zeros(shape=(bins,dbl))\n",
    "ncorrblock = np.zeros(shape=(bins,len(dblocks)))\n",
    "Vshell = np.zeros(shape=(len(rho),bins))\n",
    "nerr = np.zeros(shape=(bins,len(rho)))\n",
    "\n",
    "for i in range(len(rho)):\n",
    "    l = (Z/rho[i])**(1/3) #unit cell length in sigma\n",
    "    ld = L*l #computational domain length\n",
    "    binlen = ld/bins \n",
    "    for j in range(bins):\n",
    "        Vshell[i,j]=4*math.pi*(((j+0.5)*binlen)**2)*binlen #using r = (i+0.5)*dr for \"average\" distance for bin, \n",
    "        #computing the volume of the shell, binlen and ld depend on rho\n",
    "\n",
    "for j in range(len(rho)):\n",
    "    # Computation of the errors by computing corr for each block and taking the standard error in these computations\n",
    "    #for the error\n",
    "    for i in range(len(blocks)-1):\n",
    "        nerrblock = nf[:,i*dbl:(i+1)*dbl,j] # Taking just the elements of each interval\n",
    "        navg = np.sum(nerrblock,axis=1)/dbl\n",
    "        ncorrblock[:,i] = 2/(rho[j]*(N-1))* navg / Vshell[j,:]\n",
    "        \n",
    "        #err in each bin for each value of rho and T\n",
    "    for i in range(bins):\n",
    "        nblock = ncorrblock[i,:]\n",
    "        nblockstd = np.std(nblock)\n",
    "        nerr[i,j] = nblockstd/np.sqrt(len(dblocks))\n",
    "    \n",
    "for i in range(len(rho)):\n",
    "    l = (Z/rho[i])**(1/3) #unit cell length in sigma\n",
    "    ld = L*l #computational domain length\n",
    "    navg = np.average(nf[:,:,i],axis = 1)\n",
    "    ncorr = navg/Vshell[i,:]\n",
    "    \n",
    "    corr=2/(rho[i]*(N-1))*ncorr #correlation function\n",
    "    xaxis = np.linspace(0,ld,bins) #xaxis for correlation function\n",
    "    lower_bound = corr - nerr[:,i]\n",
    "    upper_bound = corr + nerr[:,i]\n",
    "\n",
    "\n",
    "\n",
    "    #Plotting of the correlation function\n",
    "    fig = plt.figure(figsize=(3.5,5.66))\n",
    "    ax2 = fig.add_subplot(111)\n",
    "    ax2.plot(xaxis,corr,'k-',linewidth = 1)\n",
    "    ax2.plot(xaxis,corr,'ko',markersize = 1)\n",
    "    #ax2.plot([1,1,1,1,1,1,1],'k',linewidth = 0.5) uncomment for thin line at 1\n",
    "    ax2.set_xlim([0, 0.5*np.max(xaxis)])\n",
    "    ax2.set_ylim([0, 1.2*np.max(corr)])\n",
    "    plt.xlabel(r'$r/ \\sigma$', fontsize=9)\n",
    "    plt.ylabel(r'$g(r)$', fontsize=9)\n",
    "    #shaded area to indicate error. \n",
    "    ax2.fill_between(xaxis,lower_bound,upper_bound, color = 'k',alpha=0.5)\n",
    "    "
   ]
  },
  {
   "cell_type": "code",
   "execution_count": null,
   "metadata": {
    "collapsed": false
   },
   "outputs": [],
   "source": [
    "fig.savefig('correlationfunc_solid_8_axis.pdf', bbox_inches='tight', pad_inches=0.1)"
   ]
  },
  {
   "cell_type": "markdown",
   "metadata": {},
   "source": [
    "## Pressure"
   ]
  },
  {
   "cell_type": "code",
   "execution_count": null,
   "metadata": {
    "collapsed": false
   },
   "outputs": [],
   "source": [
    "# The pressure and it's error. The error has been found to be negligible, and produces no nice results in the plot\n",
    "# when using the errorbar function.\n",
    "intervals = 3\n",
    "\n",
    "#Vectors for error calculation\n",
    "blocks = np.linspace(0,len(Pif[:,0]),intervals)\n",
    "dblocks = np.diff(blocks)\n",
    "dbl = int(dblocks[1])\n",
    "\n",
    "P2err = np.zeros(shape=(len(rho),))\n",
    "P2bins = np.zeros(shape=(len(dblocks),))\n",
    "\n",
    "#cutoff integral for different rho and T\n",
    "cofactor = [2*math.pi*rho[i]/(3*np.average(Tr[:,i])) * 0.2960253349 for i in range(len(rho))] \n",
    "\n",
    "#Error calculation by dividing into blocks, calculating pressure in each \n",
    "#block and taking the standard error of those blocks\n",
    "for j in range(len(rho)):\n",
    "    for i in range(len(dblocks)):\n",
    "        Virerr = Pif[i*dbl:(i+1)*dbl,j] \n",
    "        avgvirial = (1/(3*N*np.average(Tr))) * (np.average(Virerr))\n",
    "        P2bins[i] = 1 - avgvirial - cofactor[j]\n",
    "    \n",
    "    P2err[j] = np.std(P2bins)/np.sqrt(len(dblocks))\n",
    "\n",
    "\n",
    "#Experimental data poitns from Levelt\n",
    "dlevelt = [0.7244, 0.5270, 0.4045, 0.3684, 0.3493, 0.3527, 0.3882, 0.6218, 0.8633]\n",
    "rholevelt = [0.1, 0.2, 0.3, 0.35,0.4,0.45, 0.5, 0.6,0.650]\n",
    "#Levelt data in P/rho*k*T, converstion to P/kT\n",
    "Plevelt = [rholevelt[i]*dlevelt[i] for i in range(len(dlevelt))]\n",
    "\n",
    "avgvirial = np.zeros(shape=(len(rho),))\n",
    "P2 = np.zeros(shape=(len(rho),))\n",
    "#Calculation of all P/rho*k*T\n",
    "for i in range(len(rho)):\n",
    "    avgvirial[i] = (1/(3*N*np.average(Tr[:,i]))) * (np.sum(Pif[:,i],axis=0) / (Time-lt))\n",
    "    P2[i] = 1 -  avgvirial[i] - cofactor[i]\n",
    "# from P/rho*k*T to P/kT    \n",
    "Pline = rho*P2\n",
    "\n"
   ]
  },
  {
   "cell_type": "code",
   "execution_count": null,
   "metadata": {
    "collapsed": false
   },
   "outputs": [],
   "source": [
    "# Make plot. Play around with rho to find the isotherms, as they are all in 1 vector (could be updated in next iteration)\n",
    "# The isotherms are done here for the points in pressure\n",
    "\n",
    "fig = plt.figure(figsize=(3.5,5.66))\n",
    "ax2 = fig.add_subplot(111)\n",
    "T125 = ax2.plot(rho[0:8], Pline[0:8], 'ok-', markersize = 3, label= '$T = 1.25$')\n",
    "T135 = ax2.plot(rho[8:18], Pline[8:18],'xk-', markersize = 5, label='$T = 1.35$')\n",
    "T274 = ax2.plot(rho[18:], Pline[18:],'^k-', markersize = 5, label = '$T = 2.74$')\n",
    "Levelt = ax2.scatter(rholevelt,Plevelt, facecolors ='none', edgecolors='k', label ='experimental data')\n",
    "plt.xlabel(r'$\\rho~[\\sigma ^{-3}]$', fontsize=9)\n",
    "ylab = plt.ylabel(r'$\\frac{P}{k T}~[\\sigma^{-3}]$', fontsize=9)\n",
    "ylab.set_rotation(0)\n",
    "legend = ax2.legend(loc='upper left', shadow=True, fontsize = 9)\n",
    "ax2.set_xlim([0, 0.9])\n",
    "ax2.set_ylim([0, 2.5])\n",
    "\n",
    "ax2.yaxis.set_label_coords(-0.2,0.6)"
   ]
  },
  {
   "cell_type": "code",
   "execution_count": null,
   "metadata": {
    "collapsed": true
   },
   "outputs": [],
   "source": [
    "fig.savefig('pressure_inflection_experiments.pdf', bbox_inches='tight', pad_inches=0.1)"
   ]
  },
  {
   "cell_type": "markdown",
   "metadata": {},
   "source": [
    "## Temperature"
   ]
  },
  {
   "cell_type": "code",
   "execution_count": null,
   "metadata": {
    "collapsed": false
   },
   "outputs": [],
   "source": [
    "intervals = 3\n",
    "\n",
    "blocks=np.linspace(0,len(Tr),intervals) #Dividing the Temperature in equal intervals\n",
    "dblocks=np.diff(blocks)# Length of the interval\n",
    "Tmean = np.zeros(shape=(len(dblocks),))\n",
    "       \n",
    "dbl = int(dblocks[1])\n",
    "Tavg=0\n",
    "Terr=0\n",
    "\n",
    "for j in range(len(rho)):\n",
    "    Tblock=np.zeros(shape=(len(blocks),)) # Initialization of the temperature vector\n",
    "\n",
    "    # Computation of the errors\n",
    "    for i in range(len(blocks)-1):\n",
    "        Tblock=Tr[i*dbl:dbl+i*dbl,j] # Taking just the elements of each interval\n",
    "        Tmean[i] = np.mean(Tblock)\n",
    "\n",
    "    Terr = np.std(Tmean)/np.sqrt(len(blocks)-1)\n",
    "    Tavg2 = np.average(Tr[:,j])\n",
    "    print(Tavg2, \"+-\", Terr)"
   ]
  }
 ],
 "metadata": {
  "kernelspec": {
   "display_name": "Python 3",
   "language": "python",
   "name": "python3"
  },
  "language_info": {
   "codemirror_mode": {
    "name": "ipython",
    "version": 3
   },
   "file_extension": ".py",
   "mimetype": "text/x-python",
   "name": "python",
   "nbconvert_exporter": "python",
   "pygments_lexer": "ipython3",
   "version": "3.5.1"
  }
 },
 "nbformat": 4,
 "nbformat_minor": 0
}
